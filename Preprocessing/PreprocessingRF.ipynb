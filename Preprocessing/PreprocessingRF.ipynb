{
 "metadata": {
  "language_info": {
   "codemirror_mode": {
    "name": "ipython",
    "version": 3
   },
   "file_extension": ".py",
   "mimetype": "text/x-python",
   "name": "python",
   "nbconvert_exporter": "python",
   "pygments_lexer": "ipython3",
   "version": "3.9.1-final"
  },
  "orig_nbformat": 2,
  "kernelspec": {
   "name": "python3",
   "display_name": "Python 3.9.1 64-bit",
   "metadata": {
    "interpreter": {
     "hash": "f47a5ab19bc45083382657f6f2388be666e731531973f00c5e26ff8c66213130"
    }
   }
  }
 },
 "nbformat": 4,
 "nbformat_minor": 2,
 "cells": [
  {
   "cell_type": "code",
   "execution_count": 24,
   "metadata": {},
   "outputs": [],
   "source": [
    "from scipy.io import loadmat\n",
    "from scipy.io import savemat\n",
    "import pandas as pd\n",
    "import numpy as np"
   ]
  },
  {
   "cell_type": "code",
   "execution_count": 32,
   "metadata": {},
   "outputs": [],
   "source": [
    "def generatePairs(frames):\n",
    "    framePairs = [] #vector to hold image pairs\n",
    "\n",
    "    for x in range(len(frames)): #x represents the first frame in the pair\n",
    "        for y in range(len(frames)-2-x): #y represents second frame in the pair\n",
    "            pair = [(x+1),(x+y+3),np.stack((frames[x], frames[x+y+2]), axis=-1)] #generate pair\n",
    "            framePairs.append(pair)\n",
    "    return framePairs"
   ]
  },
  {
   "cell_type": "code",
   "execution_count": 33,
   "metadata": {},
   "outputs": [],
   "source": [
    "def translatePair(pair,steps,patient):\n",
    "\n",
    "    frame1 = pair[0]-1 #get first frame position from pair object\n",
    "    frame2 = pair[1]-1 #get second frame position from pair object\n",
    "    JAdd = pair[2].shape[0] #Get size of original frame to keep translation size consistent\n",
    "    IAdd = pair[2].shape[1] #Get size of original frame to keep translation size consistent\n",
    "\n",
    "    baseCut = 0.1 #use same base cut as is used in original frame generation\n",
    "    step = baseCut/steps #set step size to be as large as possible for given number of steps\n",
    "    pairs = [] #vector to hold newly generated pairs\n",
    "\n",
    "    #adjust how the frame is cropped from the original data to simulate translation\n",
    "    for x in range(-steps,steps+1): \n",
    "        for y in range(-steps,steps+1):\n",
    "            lowerI = int((cutLeft+x*step)*256)\n",
    "            upperI = lowerI+IAdd\n",
    "            lowerJ = int((cutTop+y*step)*2592)\n",
    "            upperJ = lowerJ+JAdd\n",
    "\n",
    "            first = rawData[patient][1][lowerJ:upperJ,lowerI:upperI,frame1]\n",
    "            second = rawData[patient][1][lowerJ:upperJ,lowerI:upperI,frame2]\n",
    "\n",
    "            pairs.append(np.stack((first,second), axis=-1)) #append translated pair to pairs vector\n",
    "    return pairs"
   ]
  },
  {
   "cell_type": "code",
   "execution_count": 43,
   "metadata": {},
   "outputs": [
    {
     "output_type": "stream",
     "name": "stdout",
     "text": [
      "23\n23\n19\n19\n20\n19\n20\n"
     ]
    }
   ],
   "source": [
    "#Directory containing the RF scan data\n",
    "dataFolder = 'C:/Users/Lucas/OneDrive - The University of Western Ontario/Documents/GitHub/SE4450-project-code/Preprocessing/'\n",
    "\n",
    "#Vector to hold all training data sets\n",
    "rawData = []\n",
    "\n",
    "#Loading in the matlab file information\n",
    "rawMatFile = loadmat(dataFolder+'P39-W2-S4')\n",
    "#Contains just the RF data pulled from the .mat file\n",
    "P39W2S4 = rawMatFile['rf1']\n",
    "rawData.append(['P39W2S4',P39W2S4])\n",
    "\n",
    "#repeat above steps for other RF files\n",
    "rawMatFile = loadmat(dataFolder+'P39-W4-S6')\n",
    "P39W4S6 = rawMatFile['rf1']\n",
    "rawData.append(['P39W4S6',P39W4S6])\n",
    "rawMatFile = loadmat(dataFolder+'P82-W0-S2')\n",
    "P82W0S2 = rawMatFile['rf1']\n",
    "rawData.append(['P82W0S2',P82W0S2])\n",
    "rawMatFile = loadmat(dataFolder+'P87-W0-S3')\n",
    "P87W0S3 = rawMatFile['rf1']\n",
    "rawData.append(['P87W0S3',P87W0S3])\n",
    "rawMatFile = loadmat(dataFolder+'P87-W2-S4')\n",
    "P87W2S4 = rawMatFile['rf1']\n",
    "rawData.append(['P87W2S4',P87W2S4])\n",
    "rawMatFile = loadmat(dataFolder+'P90-W0-S4')\n",
    "P90W0S4 = rawMatFile['rf1']\n",
    "rawData.append(['P90W0S4',P90W0S4])\n",
    "rawMatFile = loadmat(dataFolder+'P94-W1-S3')\n",
    "P94W1S3 = rawMatFile['rf1']\n",
    "rawData.append(['P94W1S3',P94W1S3])\n",
    "\n",
    "print(rawData[0][1].shape[2])\n",
    "print(rawData[1][1].shape[2])\n",
    "print(rawData[2][1].shape[2])\n",
    "print(rawData[3][1].shape[2])\n",
    "print(rawData[4][1].shape[2])\n",
    "print(rawData[5][1].shape[2])\n",
    "print(rawData[6][1].shape[2])"
   ]
  },
  {
   "cell_type": "code",
   "execution_count": 35,
   "metadata": {
    "tags": []
   },
   "outputs": [
    {
     "output_type": "stream",
     "name": "stdout",
     "text": [
      "(1805, 205, 2)\n"
     ]
    }
   ],
   "source": [
    "#leave a slice of each edge of the scan from being black\n",
    "cutTop = 0.1\n",
    "cutLeft = 0.1\n",
    "cutBottom = 0.1\n",
    "cutRight = 0.1\n",
    "\n",
    "lowerI = int(cutLeft*256)\n",
    "upperI = int((1-cutRight)*256)\n",
    "lowerJ = int(cutTop*2592)\n",
    "upperJ = int((1-cutBottom)*2592)\n",
    "\n",
    "allFrames = [] #vector to hold individual cropped frames\n",
    "\n",
    "for y in range(len(rawData)):\n",
    "    frames = []\n",
    "    for x in range(rawData[y][1].shape[2]): #range is how many frames there are in the set\n",
    "        frames.append(rawData[y][1][lowerJ:upperJ,lowerI:upperI,x]) #Take inner subset of frame to allow for translation\n",
    "    allFrames.append([rawData[y][0],frames])\n",
    "\n",
    "pairs = []\n",
    "for x in range(len(allFrames)):\n",
    "    pairs.append([allFrames[x][0],generatePairs(allFrames[x][1])]) #add generated pairs to list\n",
    "print(pairs[6][1][0][2].shape)\n",
    "\n",
    "#PAIRS VARIABLE GUIDE\n",
    "#First value = Holds which patient set is being referred to\n",
    "#Second value = Holds either patient set name [0] or generated pairs for set\n",
    "#Third value = Holds all pairs for patient set\n",
    "#Fourth value = holds specific pairs for patient set\n",
    "#pairs[0][1][0][2].shape <- references the shape of the third pair of frames for a certain patients data"
   ]
  },
  {
   "cell_type": "code",
   "execution_count": 36,
   "metadata": {},
   "outputs": [
    {
     "output_type": "stream",
     "name": "stdout",
     "text": [
      "1263\n"
     ]
    }
   ],
   "source": [
    "#Create Vector of stacked pairs with frame number and patient ID for easy labeling\n",
    "train = []\n",
    "for x in range(len(pairs)):\n",
    "    for y in range(len(pairs[x][1])):\n",
    "        train.append([pairs[x][0],pairs[x][1][y][0],pairs[x][1][y][1],pairs[x][1][y][2]])\n",
    "\n",
    "print(len(train))\n",
    "#for x in range(200):\n",
    "#    print(train[x][0],train[x][1],train[x][2],train[x][3].shape)"
   ]
  },
  {
   "cell_type": "code",
   "execution_count": 37,
   "metadata": {},
   "outputs": [],
   "source": [
    "#Read in label data\n",
    "DFP39W2S4 = pd.read_excel('Labels.xlsx', sheet_name='P39-W2-S4', engine='openpyxl')\n",
    "DFP39W4S6 = pd.read_excel('Labels.xlsx', sheet_name='P39-W4-S6', engine='openpyxl')\n",
    "DFP82W0S2 = pd.read_excel('Labels.xlsx', sheet_name='P82-W0-S2', engine='openpyxl')\n",
    "DFP87W0S3 = pd.read_excel('Labels.xlsx', sheet_name='P87-W0-S3', engine='openpyxl')\n",
    "DFP87W2S4 = pd.read_excel('Labels.xlsx', sheet_name='P87-W2-S4', engine='openpyxl')\n",
    "DFP90W0S4 = pd.read_excel('Labels.xlsx', sheet_name='P90-W0-S4', engine='openpyxl')\n",
    "DFP94W1S3 = pd.read_excel('Labels.xlsx', sheet_name='P94-W1-S3', engine='openpyxl')"
   ]
  },
  {
   "cell_type": "code",
   "execution_count": 31,
   "metadata": {},
   "outputs": [
    {
     "output_type": "stream",
     "name": "stdout",
     "text": [
      "210\n1470\n"
     ]
    }
   ],
   "source": [
    "#create labels for training data\n",
    "labels = DFP39W2S4['Label axial'].tolist() + DFP39W4S6['Label axial'].tolist() + DFP82W0S2['Label axial'].tolist() + DFP87W0S3['Label axial'].tolist() + DFP87W2S4['Label axial'].tolist() + DFP90W0S4['Label axial'].tolist() + DFP94W1S3['Label axial'].tolist()\n",
    "print(len(DFP39W2S4['Label axial'].tolist()))\n",
    "print(len(labels))"
   ]
  },
  {
   "cell_type": "code",
   "execution_count": null,
   "metadata": {},
   "outputs": [],
   "source": [
    "import re #for regular expressions to allow sorting the frames\n",
    "\n",
    "def numberRegex(e):\n",
    "  #Finding all digits in the filename\n",
    "  x = re.findall(\"(\\d)\", e)\n",
    "\n",
    "  #if there are two digits in filename\n",
    "  if(len(x)==2):\n",
    "      return int(x[0]+\"\"+x[1])\n",
    "  #if there is one digit in the filename\n",
    "  else:\n",
    "      return int(x[0])\n"
   ]
  },
  {
   "cell_type": "code",
   "execution_count": 11,
   "metadata": {},
   "outputs": [
    {
     "output_type": "stream",
     "name": "stdout",
     "text": [
      "19\n"
     ]
    }
   ],
   "source": [
    "from scipy.io import loadmat\n",
    "from scipy.io import savemat\n",
    "import pandas as pd\n",
    "\n",
    "#Testing to see if we can make dataframe straight from the raw mat file dictionary\n",
    "dataFolder = 'H:/Documents/Github repositories/SE4450-project-code/Preprocessing/P82-W0-S2.mat'\n",
    "rawMatFile = loadmat(dataFolder)\n",
    "print(rawMatFile['rf1'].shape[2])\n"
   ]
  },
  {
   "cell_type": "code",
   "execution_count": 32,
   "metadata": {
    "tags": []
   },
   "outputs": [
    {
     "output_type": "stream",
     "name": "stdout",
     "text": [
      "<class 'numpy.ndarray'>\n<class 'numpy.ndarray'>\n105\n"
     ]
    }
   ],
   "source": [
    "from scipy.io import loadmat\n",
    "from scipy.io import savemat\n",
    "import pandas as pd\n",
    "\n",
    "#Lucas directory\n",
    "#C:/Users/Lucas/OneDrive - The University of Western Ontario/Documents/GitHub/SE4450-project-code/Preprocessing/Pxx-Wx-Sx_RF\n",
    "\n",
    "#Ian directory\n",
    "#H:/Documents/Github repositories/SE4450-project-code/Preprocessing/Pxx-Wx-Sx_RF\n",
    "\n",
    "#Directory containing the RF scan data\n",
    "dataFolder = 'H:/Documents/Github repositories/SE4450-project-code/Preprocessing/P82-W0-S2.mat'\n",
    "#vecRFDataNames = os.listdir(os.path.join(dataFolder)) #vector with the names of the images in the above folder\n",
    "#vecRFDataNames.sort(key=numberRegex) #Sorts the images by frame number\n",
    "\n",
    "#Loading in the matlab file information\n",
    "rawMatFile = loadmat(dataFolder)\n",
    "\n",
    "#Contains just the RF data pulled from the .mat file\n",
    "#RFData = [[element for element in upperElement] for upperElement in rawMatFile['rf1']]\n",
    "RFData = rawMatFile['rf1']\n",
    "print(type(RFData))\n",
    "print(type(rawMatFile['rf1']))\n",
    "#Kinda works to leave a slice of each edge of the scan from being black\n",
    "cutTop = 0.1\n",
    "cutLeft = 0.1\n",
    "cutBottom = 0.1\n",
    "cutRight = 0.1\n",
    "\n",
    "lowerI = int(cutLeft*256)\n",
    "upperI = int((1-cutRight)*256)\n",
    "lowerJ = int(cutTop*2592)\n",
    "upperJ = int((1-cutBottom)*2592)\n",
    "\n",
    "#zeroArray = [0,0,0,0,0,0,0,0,0,0,0,0,0,0,0,0,0,0,0]\n",
    "for i in range(256):\n",
    "    for j in range(2592):\n",
    "        if j>lowerJ and j<upperJ: #rows to zero out\n",
    "            if i>lowerI and i<upperI: #cols to zero out\n",
    "                RFData[j][i][0] = 0 #the 0 in the third [] pertains to the frame to edit (0 being frame 1)\n",
    " \n",
    "# Updates inputted matlab file to contain changes from the for loop above\n",
    "rawMatFile['rf1'] = RFData\n",
    "\n",
    "# Saves file while applying changes from the for loop above\n",
    "# matDic = {'__header__': b'MATLAB 5.0 MAT-file, Platform: PCWIN64, Created on: Wed Oct 21 17:26:33 2020','__version__':'1.0', '__globals__':'','rf1':RFData}\n",
    "# savemat(\"transformTest.mat\", matDic, long_field_names=True)\n",
    "\n",
    "# Saves the mat file without any changes\n",
    "savemat(\"transformTestUnchanged.mat\", rawMatFile)\n",
    "\n",
    "#Converting python dictionary into pandas dataframe for easy manipulation (unsure if needed)\n",
    "#RFDataframe = pd.DataFrame(rawMatFile['rf1'])\n",
    "\n",
    "#print(RFDataframe.head(5))"
   ]
  },
  {
   "cell_type": "code",
   "execution_count": null,
   "metadata": {},
   "outputs": [],
   "source": [
    "#This was a long shot to visualize the RF dataframe\n",
    "import matplotlib.pyplot as plt\n",
    "import numpy as np\n",
    "\n",
    "[m,n] = np.shape(RFData[0:10][0:10])\n",
    "\n",
    "#Colour Map using Matrix\n",
    "plt.figure()\n",
    "plt.imshow(RFData, alpha=0.8)\n",
    "plt.xticks(np.arange(n))\n",
    "plt.yticks(np.arange(m))\n",
    "plt.xlabel('Numbers')\n",
    "plt.ylabel('Value')\n",
    "plt.title('Color Maps')"
   ]
  }
 ]
}