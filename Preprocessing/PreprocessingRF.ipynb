{
 "metadata": {
  "language_info": {
   "codemirror_mode": {
    "name": "ipython",
    "version": 3
   },
   "file_extension": ".py",
   "mimetype": "text/x-python",
   "name": "python",
   "nbconvert_exporter": "python",
   "pygments_lexer": "ipython3",
   "version": "3.7.4-final"
  },
  "orig_nbformat": 2,
  "kernelspec": {
   "name": "python3",
   "display_name": "Python 3",
   "language": "python"
  }
 },
 "nbformat": 4,
 "nbformat_minor": 2,
 "cells": [
  {
   "cell_type": "code",
   "execution_count": 1,
   "metadata": {},
   "outputs": [
    {
     "output_type": "stream",
     "name": "stdout",
     "text": [
      "Requirement already satisfied: scipy in h:\\users\\ian\\anaconda3\\lib\\site-packages (1.3.1)\nNote: you may need to restart the kernel to use updated packages.\n"
     ]
    }
   ],
   "source": [
    "pip install scipy"
   ]
  },
  {
   "cell_type": "code",
   "execution_count": 7,
   "metadata": {},
   "outputs": [],
   "source": [
    "import re #for regular expressions to allow sorting the frames\n",
    "\n",
    "def numberRegex(e):\n",
    "  #Finding all digits in the filename\n",
    "  x = re.findall(\"(\\d)\", e)\n",
    "\n",
    "  #if there are two digits in filename\n",
    "  if(len(x)==2):\n",
    "      return int(x[0]+\"\"+x[1])\n",
    "  #if there is one digit in the filename\n",
    "  else:\n",
    "      return int(x[0])\n"
   ]
  },
  {
   "cell_type": "code",
   "execution_count": 15,
   "metadata": {},
   "outputs": [
    {
     "output_type": "stream",
     "name": "stdout",
     "text": [
      "           0         1         2         3         4         5         6    \\\n0     0.003351 -0.018736  0.015842 -0.018736  0.000000 -0.017822  0.002589   \n1    -0.012795 -0.014166  0.010206 -0.013252 -0.001066 -0.010358 -0.002285   \n2    -0.018431  0.002285 -0.003199  0.001066  0.001676 -0.001219 -0.005484   \n3    -0.010358  0.017669 -0.010815  0.012490 -0.001219  0.005331 -0.001828   \n4     0.005027  0.016451 -0.010510  0.013709  0.000609  0.003960  0.000609   \n...        ...       ...       ...       ...       ...       ...       ...   \n2587 -0.002589  0.012490 -0.000152  0.006093 -0.000609  0.002894 -0.010053   \n2588  0.001523 -0.001676  0.013100 -0.004722  0.009444 -0.004417  0.003808   \n2589  0.000000  0.000000  0.004722 -0.000152  0.008225 -0.004417  0.001066   \n2590  0.000305  0.001828 -0.002437  0.001371  0.003351  0.003656 -0.002285   \n2591  0.000000  0.002133 -0.004417  0.004417 -0.006702  0.012034 -0.007768   \n\n           7         8         9    ...       246       247       248  \\\n0    -0.014928 -0.002742 -0.000609  ... -0.009901  0.011272 -0.008682   \n1    -0.009292 -0.005179  0.001219  ...  0.003199  0.008225 -0.009444   \n2     0.002133 -0.002894  0.004265  ...  0.013557 -0.003351 -0.002285   \n3     0.007312  0.001219  0.005179  ...  0.009901 -0.010663  0.007464   \n4     0.005788  0.001219  0.003503  ...  0.005331 -0.009292  0.011272   \n...        ...       ...       ...  ...       ...       ...       ...   \n2587  0.018126 -0.021782  0.018583  ...  0.008225 -0.017517  0.022696   \n2588 -0.014623  0.013404 -0.026657  ... -0.029094  0.026961 -0.018888   \n2589 -0.013252 -0.000457 -0.022239  ... -0.027723  0.035644 -0.012490   \n2590 -0.007921 -0.014928 -0.010206  ... -0.011272  0.032597  0.003808   \n2591  0.006855 -0.023305  0.003351  ...  0.016451  0.014014  0.022239   \n\n           249       250       251       252       253       254       255  \n0     0.012186 -0.006398  0.014928 -0.017517  0.015232 -0.007159  0.009444  \n1     0.015385 -0.003046  0.018279 -0.009139  0.021021 -0.009901  0.012947  \n2     0.009749 -0.000305  0.007921  0.002894  0.012034 -0.006855  0.009596  \n3    -0.002437  0.004722 -0.003656  0.010510 -0.005027  0.002589 -0.000457  \n4    -0.010358  0.010206 -0.010053  0.013861 -0.017365  0.007312 -0.008682  \n...        ...       ...       ...       ...       ...       ...       ...  \n2587 -0.007464  0.011424  0.000762  0.015385  0.001980  0.005331  0.008987  \n2588  0.026352 -0.001066  0.010663  0.002133  0.010967  0.011577  0.001676  \n2589  0.023610  0.005027  0.008378  0.005179  0.003960  0.012795 -0.000152  \n2590  0.016603  0.014318  0.006093  0.008682 -0.000152  0.012338 -0.003960  \n2591  0.003046  0.019040  0.004265  0.011881 -0.003503  0.006550 -0.004874  \n\n[2592 rows x 256 columns]\n"
     ]
    }
   ],
   "source": [
    "from scipy.io import loadmat\n",
    "import pandas as pd\n",
    "\n",
    "#Lucas directory\n",
    "#C:/Users/Lucas/OneDrive - The University of Western Ontario/Documents/GitHub/SE4450-project-code/Preprocessing/Pxx-Wx-Sx_RF\n",
    "\n",
    "#Ian directory\n",
    "#H:/Documents/Github repositories/SE4450-project-code/Preprocessing/Pxx-Wx-Sx_RF\n",
    "\n",
    "#Directory containing the RF scan data\n",
    "dataFolder = 'H:/Documents/Github repositories/SE4450-project-code/Preprocessing/Pxx-Wx-Sx_RF'\n",
    "vecRFDataNames = os.listdir(os.path.join(dataFolder)) #vector with the names of the images in the above folder\n",
    "vecRFDataNames.sort(key=numberRegex) #Sorts the images by frame number\n",
    "\n",
    "#Loading in the matlab file information\n",
    "rawMatFile = loadmat(dataFolder+'/'+vecRFDataNames[1])\n",
    "\n",
    "#Contains just the RF data pulled from the .mat file\n",
    "RFData = [[element for element in upperElement] for upperElement in rawMatFile['I']]\n",
    "\n",
    "#Converting python dictionary into pandas dataframe for easy manipulation (unsure if needed)\n",
    "RFDataframe = pd.DataFrame(RFData)\n",
    "\n",
    "print(df)"
   ]
  },
  {
   "cell_type": "code",
   "execution_count": null,
   "metadata": {},
   "outputs": [],
   "source": []
  }
 ]
}