{
 "metadata": {
  "language_info": {
   "codemirror_mode": {
    "name": "ipython",
    "version": 3
   },
   "file_extension": ".py",
   "mimetype": "text/x-python",
   "name": "python",
   "nbconvert_exporter": "python",
   "pygments_lexer": "ipython3",
   "version": "3.7.4-final"
  },
  "orig_nbformat": 2,
  "kernelspec": {
   "name": "python3",
   "display_name": "Python 3",
   "language": "python"
  }
 },
 "nbformat": 4,
 "nbformat_minor": 2,
 "cells": [
  {
   "cell_type": "code",
   "execution_count": null,
   "metadata": {},
   "outputs": [],
   "source": [
    "import re #for regular expressions to allow sorting the frames\n",
    "\n",
    "def numberRegex(e):\n",
    "  #Finding all digits in the filename\n",
    "  x = re.findall(\"(\\d)\", e)\n",
    "\n",
    "  #if there are two digits in filename\n",
    "  if(len(x)==2):\n",
    "      return int(x[0]+\"\"+x[1])\n",
    "  #if there is one digit in the filename\n",
    "  else:\n",
    "      return int(x[0])\n"
   ]
  },
  {
   "cell_type": "code",
   "execution_count": 15,
   "metadata": {
    "tags": []
   },
   "outputs": [
    {
     "output_type": "stream",
     "name": "stdout",
     "text": [
      "                                                 0    \\\n0  [1, 10, 44, 65, 25, -8, -78, -33, 27, -46, -88...   \n1  [0, 0, 31, 62, 22, 11, -55, -55, -4, 32, -115,...   \n2  [19, 2, 14, 41, 21, 15, -23, -52, -27, 117, -6...   \n3  [-86, 0, 2, 32, 36, 28, 0, -30, -52, 131, 1, -...   \n4  [-119, 22, 3, 23, 31, 25, 17, -28, -47, 110, 9...   \n\n                                                 1    \\\n0  [50, -11, -60, 12, 97, 86, -59, -49, -12, -62,...   \n1  [27, 0, -60, -40, 95, 143, -7, -81, -22, -58, ...   \n2  [-121, 12, -22, -86, 49, 131, 76, -59, -46, -3...   \n3  [-95, 14, -6, -72, -10, 61, 111, 0, -66, -17, ...   \n4  [16, -123, -5, -25, -38, -5, 104, 76, -50, -21...   \n\n                                                 2    \\\n0  [-32, 86, 124, 3, -90, -76, -22, -5, -19, 83, ...   \n1  [-13, 31, 102, 72, -57, -63, -51, -29, -28, 87...   \n2  [104, -16, 34, 106, -5, -49, -49, -43, -19, 67...   \n3  [63, -29, -33, 103, 66, 14, -51, -77, -5, 27, ...   \n4  [-21, 104, -70, 71, 110, 96, -45, -80, -17, -5...   \n\n                                                 3    \\\n0  [43, -31, -27, 74, 77, 47, -21, -58, -36, 60, ...   \n1  [57, -1, -65, 29, 119, 76, 21, -47, -27, 39, 9...   \n2  [-121, 9, -40, -17, 108, 105, 56, -31, -55, -4...   \n3  [-79, 29, -17, -45, 55, 70, 102, 10, -54, -17,...   \n4  [10, -123, 23, -38, -21, 54, 90, 54, -36, -21,...   \n\n                                                 4    \\\n0  [-35, 62, 49, -21, -82, -60, -26, -11, 8, 89, ...   \n1  [-32, 54, 60, 31, -95, -70, -61, -20, -34, 63,...   \n2  [-4, 22, 55, 64, -75, -30, -74, -29, -32, 39, ...   \n3  [-2, -44, 9, 75, -27, -5, -71, -37, -27, 16, 3...   \n4  [8, 0, -39, 32, 16, 31, -19, -56, -18, -5, 47,...   \n\n                                                 5    \\\n0  [-37, -29, 26, 56, -5, 19, -69, -61, 2, 1, 64,...   \n1  [5, -29, 5, 37, 28, 65, -25, -99, -28, 20, 40,...   \n2  [-110, 24, 8, 9, 42, 66, 18, -64, -42, 44, 19,...   \n3  [-74, 79, 12, 8, 28, 52, 53, -38, -90, 68, 29,...   \n4  [-4, -117, 13, 12, 5, 4, 59, 15, -83, 79, 70, ...   \n\n                                                 6    \\\n0  [8, 25, 24, 3, 3, -38, -8, 32, 26, 102, -132, ...   \n1  [-21, 7, 9, 39, -16, -50, -48, 10, -5, 123, -5...   \n2  [15, -15, 9, 42, 3, -28, -48, -12, -10, 75, 17...   \n3  [-20, -51, -24, 16, 8, -12, -51, -40, 26, 27, ...   \n4  [-38, 17, -50, -29, 11, 9, -28, -43, 39, -23, ...   \n\n                                                 7    \\\n0  [-131, -96, -71, -64, 43, 53, 7, -6, 31, 12, 1...   \n1  [-156, -87, -88, -110, 22, 40, 30, 18, 24, -24...   \n2  [-96, -52, -30, -105, -20, 6, 42, 37, 42, -34,...   \n3  [-55, 45, 60, -69, -66, -4, 40, 42, 24, -10, -...   \n4  [16, -98, 120, -2, -84, -38, -4, 35, -6, 46, -...   \n\n                                                 8    \\\n0  [94, 88, 44, 72, -42, -22, 25, 47, 15, 85, -53...   \n1  [98, -3, -8, 61, 24, -1, -2, 43, 41, 77, -9, -...   \n2  [-16, -98, -101, 75, 93, 25, -14, 34, 50, 35, ...   \n3  [-37, -153, -123, 20, 140, 53, 7, 20, 38, 15, ...   \n4  [-18, -18, -114, -67, 134, 81, 33, -30, 12, -2...   \n\n                                                 9    ...  \\\n0  [-30, -175, -154, -49, 142, 65, -19, 23, 32, -...  ...   \n1  [-110, -146, -142, -158, 87, 77, 32, 2, 32, -3...  ...   \n2  [-6, -67, -76, -194, 11, 35, 113, -13, 32, -1,...  ...   \n3  [14, 22, 19, -188, -72, -42, 121, 49, 32, 3, -...  ...   \n4  [26, -4, 105, -113, -159, -128, 62, 122, 59, 4...  ...   \n\n                                                 246  \\\n0  [-150, -191, -14, 107, 135, 8, -21, -8, -44, -...   \n1  [-81, -182, -150, 14, 175, 98, -38, -66, 52, -...   \n2  [-80, -74, -208, -107, 121, 131, -12, -70, 126...   \n3  [23, 108, -156, -175, 6, 116, 60, -31, 181, -2...   \n4  [78, -65, 15, -151, -149, -1, 130, 46, 137, 83...   \n\n                                                 247  \\\n0  [203, 177, -24, -119, -69, -5, 67, 1, 130, 11,...   \n1  [214, 234, 154, -35, -116, -91, 90, 46, 34, 92...   \n2  [79, 214, 237, 91, -96, -117, 67, 69, -63, 129...   \n3  [55, 92, 222, 161, 6, -101, 2, 59, -101, 112, ...   \n4  [-18, 74, 133, 216, 138, 18, -82, -5, -85, 31,...   \n\n                                                 248  \\\n0  [-67, -124, -72, -2, 85, 44, 8, 36, -93, -44, ...   \n1  [48, -82, -122, -67, 43, 73, 2, -28, -2, -103,...   \n2  [-54, 25, -85, -89, -10, 53, 38, -8, 76, -112,...   \n3  [-62, 146, 10, -75, -62, -22, 63, 12, 102, -72...   \n4  [-16, -57, 121, -2, -78, -79, 72, 29, 73, 1, -...   \n\n                                                 249  \\\n0  [168, 173, 72, 46, -65, -46, -28, 3, 97, -39, ...   \n1  [124, 155, 146, 71, -65, -52, -23, 14, 56, 62,...   \n2  [85, 109, 166, 70, -4, -35, -35, 23, 1, 124, -...   \n3  [108, 20, 120, 74, 60, 9, -15, 2, -24, 138, -2...   \n4  [71, 80, 52, 101, 114, 69, -35, -11, -1, 93, 9...   \n\n                                                 250  \\\n0  [12, -7, -38, -52, -73, -13, 77, 127, -80, -54...   \n1  [92, 33, -19, -10, -59, -49, 2, 76, -26, -114,...   \n2  [-47, 94, 29, 28, -26, -37, -60, 24, 20, -124,...   \n3  [-26, 125, 72, 51, 12, -19, -80, -1, 87, -87, ...   \n4  [-2, -42, 104, 69, 62, 21, -66, -13, 106, 24, ...   \n\n                                                 251  \\\n0  [106, 70, 74, 0, 27, 13, -48, -15, 96, -26, -7...   \n1  [29, 55, 100, 28, 40, 24, 1, -12, 83, 36, -94,...   \n2  [101, 40, 77, 34, 6, 4, 34, -5, 49, 92, -81, -...   \n3  [122, 28, 52, 80, 18, 4, 41, 10, 37, 90, -21, ...   \n4  [55, 98, 9, 72, 40, 27, 16, 28, 5, 68, 42, -57...   \n\n                                                 252  \\\n0  [66, 14, -2, 10, 16, -11, 17, 53, -65, -35, 59...   \n1  [105, 34, -12, -13, 16, 4, -11, 22, -40, -63, ...   \n2  [-122, 57, 25, -3, 12, 25, -31, -5, 19, -55, 3...   \n3  [-77, 78, 61, -16, 4, 21, -15, -26, 51, -52, -...   \n4  [9, -115, 82, 33, -26, 19, 1, -5, 76, -22, -46...   \n\n                                                 253  \\\n0  [37, 72, 93, 50, -5, -46, -27, -27, 65, -44, -...   \n1  [-3, 26, 92, 62, 7, -50, -7, -19, 82, 14, -91,...   \n2  [104, -1, 56, 91, 44, 2, -17, 3, 72, 54, -84, ...   \n3  [144, -23, 10, 76, 88, 41, -32, 6, 51, 90, -27...   \n4  [82, 100, -21, 54, 102, 77, -27, -1, 21, 67, 4...   \n\n                                                 254  \\\n0  [111, 76, -8, -40, -53, -66, 63, 95, -118, -39...   \n1  [103, 84, 48, -5, -39, -41, 13, 56, -53, -112,...   \n2  [-50, 81, 89, 11, -36, -55, -11, 4, 1, -120, 3...   \n3  [-74, 43, 110, 65, -26, -35, -32, -22, 58, -84...   \n4  [-52, -47, 89, 106, 21, -21, -56, -51, 89, -26...   \n\n                                                 255  \n0  [-14, 11, 34, 70, 12, 9, -50, -42, 112, -18, -...  \n1  [-10, -1, 17, 56, 38, 42, -25, -27, 119, 55, -...  \n2  [61, -26, 5, 36, 50, 51, 20, -21, 74, 117, -39...  \n3  [87, -32, -3, 29, 52, 83, 52, -7, 8, 119, 17, ...  \n4  [60, 62, -20, 26, 39, 68, 82, 16, -44, 86, 93,...  \n\n[5 rows x 256 columns]\n"
     ]
    }
   ],
   "source": [
    "from scipy.io import loadmat\n",
    "from scipy.io import savemat\n",
    "import pandas as pd\n",
    "\n",
    "#Lucas directory\n",
    "#C:/Users/Lucas/OneDrive - The University of Western Ontario/Documents/GitHub/SE4450-project-code/Preprocessing/Pxx-Wx-Sx_RF\n",
    "\n",
    "#Ian directory\n",
    "#H:/Documents/Github repositories/SE4450-project-code/Preprocessing/Pxx-Wx-Sx_RF\n",
    "\n",
    "#Directory containing the RF scan data\n",
    "dataFolder = 'H:/Documents/Github repositories/SE4450-project-code/Preprocessing/P82-W0-S2.mat'\n",
    "#vecRFDataNames = os.listdir(os.path.join(dataFolder)) #vector with the names of the images in the above folder\n",
    "#vecRFDataNames.sort(key=numberRegex) #Sorts the images by frame number\n",
    "\n",
    "#Loading in the matlab file information\n",
    "rawMatFile = loadmat(dataFolder)\n",
    "\n",
    "#Contains just the RF data pulled from the .mat file\n",
    "RFData = [[element for element in upperElement] for upperElement in rawMatFile['rf1']]\n",
    "\n",
    "zeroArray = [0,0,0,0,0,0,0,0,0,0,0,0,0,0,0,0,0,0,0]\n",
    "for i in range(256):\n",
    "    if i>10 and i<246:\n",
    "        for j in range(2592):\n",
    "            if j>300 and j<2292:\n",
    "                RFData[j][i] = zeroArray\n",
    "\n",
    "# Updates inputted matlab file to contain changes from the for loop above\n",
    "rawMatFile['rf1'] = RFData\n",
    "\n",
    "# Saves file while applying changes from the for loop above\n",
    "# matDic = {'__header__': b'MATLAB 5.0 MAT-file, Platform: PCWIN64, Created on: Wed Oct 21 17:26:33 2020','__version__':'1.0', '__globals__':'','rf1':RFData}\n",
    "# savemat(\"transformTest.mat\", matDic, long_field_names=True)\n",
    "\n",
    "# Saves the mat file without any changes\n",
    "savemat(\"transformTestUnchanged.mat\", rawMatFile)\n",
    "\n",
    "#Converting python dictionary into pandas dataframe for easy manipulation (unsure if needed)\n",
    "RFDataframe = pd.DataFrame(RFData)\n",
    "\n",
    "print(RFDataframe.head(5))"
   ]
  },
  {
   "cell_type": "code",
   "execution_count": null,
   "metadata": {},
   "outputs": [],
   "source": [
    "#This was a long shot to visualize the RF dataframe\n",
    "import matplotlib.pyplot as plt\n",
    "import numpy as np\n",
    "\n",
    "[m,n] = np.shape(RFData[0:10][0:10])\n",
    "\n",
    "#Colour Map using Matrix\n",
    "plt.figure()\n",
    "plt.imshow(RFData, alpha=0.8)\n",
    "plt.xticks(np.arange(n))\n",
    "plt.yticks(np.arange(m))\n",
    "plt.xlabel('Numbers')\n",
    "plt.ylabel('Value')\n",
    "plt.title('Color Maps')"
   ]
  },
  {
   "cell_type": "code",
   "execution_count": null,
   "metadata": {},
   "outputs": [],
   "source": []
  }
 ]
}