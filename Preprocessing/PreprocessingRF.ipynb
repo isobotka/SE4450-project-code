{
 "metadata": {
  "language_info": {
   "codemirror_mode": {
    "name": "ipython",
    "version": 3
   },
   "file_extension": ".py",
   "mimetype": "text/x-python",
   "name": "python",
   "nbconvert_exporter": "python",
   "pygments_lexer": "ipython3",
   "version": "3.7.4-final"
  },
  "orig_nbformat": 2,
  "kernelspec": {
   "name": "python3",
   "display_name": "Python 3",
   "language": "python"
  }
 },
 "nbformat": 4,
 "nbformat_minor": 2,
 "cells": [
  {
   "cell_type": "code",
   "execution_count": 1,
   "metadata": {},
   "outputs": [],
   "source": [
    "import re #for regular expressions to allow sorting the frames\n",
    "\n",
    "def numberRegex(e):\n",
    "  #Finding all digits in the filename\n",
    "  x = re.findall(\"(\\d)\", e)\n",
    "\n",
    "  #if there are two digits in filename\n",
    "  if(len(x)==2):\n",
    "      return int(x[0]+\"\"+x[1])\n",
    "  #if there is one digit in the filename\n",
    "  else:\n",
    "      return int(x[0])\n"
   ]
  },
  {
   "cell_type": "code",
   "execution_count": 13,
   "metadata": {
    "tags": []
   },
   "outputs": [
    {
     "output_type": "stream",
     "name": "stdout",
     "text": [
      "                                                   0  ...                                                255\n0  [0, 10, 44, 65, 25, -8, -78, -33, 27, -46, -88...  ...  [-14, 11, 34, 70, 12, 9, -50, -42, 112, -18, -...\n1  [0, 0, 31, 62, 22, 11, -55, -55, -4, 32, -115,...  ...  [-10, -1, 17, 56, 38, 42, -25, -27, 119, 55, -...\n2  [0, 2, 14, 41, 21, 15, -23, -52, -27, 117, -68...  ...  [61, -26, 5, 36, 50, 51, 20, -21, 74, 117, -39...\n3  [0, 0, 2, 32, 36, 28, 0, -30, -52, 131, 1, -10...  ...  [87, -32, -3, 29, 52, 83, 52, -7, 8, 119, 17, ...\n4  [0, 22, 3, 23, 31, 25, 17, -28, -47, 110, 91, ...  ...  [60, 62, -20, 26, 39, 68, 82, 16, -44, 86, 93,...\n\n[5 rows x 256 columns]\n"
     ]
    }
   ],
   "source": [
    "from scipy.io import loadmat\n",
    "from scipy.io import savemat\n",
    "import pandas as pd\n",
    "\n",
    "#Lucas directory\n",
    "#C:/Users/Lucas/OneDrive - The University of Western Ontario/Documents/GitHub/SE4450-project-code/Preprocessing/Pxx-Wx-Sx_RF\n",
    "\n",
    "#Ian directory\n",
    "#H:/Documents/Github repositories/SE4450-project-code/Preprocessing/Pxx-Wx-Sx_RF\n",
    "\n",
    "#Directory containing the RF scan data\n",
    "dataFolder = 'H:/Documents/Github repositories/SE4450-project-code/Preprocessing/P82-W0-S2.mat'\n",
    "#vecRFDataNames = os.listdir(os.path.join(dataFolder)) #vector with the names of the images in the above folder\n",
    "#vecRFDataNames.sort(key=numberRegex) #Sorts the images by frame number\n",
    "\n",
    "#Loading in the matlab file information\n",
    "rawMatFile = loadmat(dataFolder)\n",
    "\n",
    "#Contains just the RF data pulled from the .mat file\n",
    "RFData = [[element for element in upperElement] for upperElement in rawMatFile['rf1']]\n",
    "\n",
    "zeroArray = [0,0,0,0,0,0,0,0,0,0,0,0,0,0,0,0,0,0,0]\n",
    "for i in range(10):\n",
    "    RFData[i][0][0] = 0\n",
    "\n",
    "#rawMatFile['rf1'] = RFData\n",
    "\n",
    "matDic = {'__header__': b'MATLAB 5.0 MAT-file, Platform: PCWIN64, Created on: Wed Oct 21 17:26:33 2020','__version__':'1.0', '__globals__':'','rf1':RFData}\n",
    "\n",
    "savemat(\"transformTest.mat\", matDic, long_field_names=True)\n",
    "\n",
    "#Converting python dictionary into pandas dataframe for easy manipulation (unsure if needed)\n",
    "RFDataframe = pd.DataFrame(RFData)\n",
    "\n",
    "print(RFDataframe.head(5))\n",
    "        \n",
    "#print(RFDataframe.sample(5))"
   ]
  },
  {
   "cell_type": "code",
   "execution_count": 4,
   "metadata": {},
   "outputs": [
    {
     "output_type": "execute_result",
     "data": {
      "text/plain": [
       "Text(0.5, 1.0, 'Color Maps')"
      ]
     },
     "metadata": {},
     "execution_count": 4
    }
   ],
   "source": [
    "#This was a long shot to visualize the RF dataframe\n",
    "import matplotlib.pyplot as plt\n",
    "import numpy as np\n",
    "\n",
    "[m,n] = np.shape(RFData[0:10][0:10])\n",
    "\n",
    "#Colour Map using Matrix\n",
    "plt.figure()\n",
    "plt.imshow(RFData, alpha=0.8)\n",
    "plt.xticks(np.arange(n))\n",
    "plt.yticks(np.arange(m))\n",
    "plt.xlabel('Numbers')\n",
    "plt.ylabel('Value')\n",
    "plt.title('Color Maps')"
   ]
  },
  {
   "cell_type": "code",
   "execution_count": null,
   "metadata": {},
   "outputs": [],
   "source": []
  }
 ]
}