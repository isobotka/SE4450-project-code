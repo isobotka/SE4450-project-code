{
 "metadata": {
  "language_info": {
   "codemirror_mode": {
    "name": "ipython",
    "version": 3
   },
   "file_extension": ".py",
   "mimetype": "text/x-python",
   "name": "python",
   "nbconvert_exporter": "python",
   "pygments_lexer": "ipython3",
   "version": "3.9.1"
  },
  "orig_nbformat": 2,
  "kernelspec": {
   "name": "python3",
   "display_name": "Python 3.9.1 64-bit",
   "metadata": {
    "interpreter": {
     "hash": "f47a5ab19bc45083382657f6f2388be666e731531973f00c5e26ff8c66213130"
    }
   }
  }
 },
 "nbformat": 4,
 "nbformat_minor": 2,
 "cells": [
  {
   "cell_type": "code",
   "execution_count": 55,
   "metadata": {},
   "outputs": [
    {
     "output_type": "stream",
     "name": "stdout",
     "text": [
      "<class 'numpy.ndarray'>\n<class 'numpy.ndarray'>\n9\n(2073, 205)\n"
     ]
    }
   ],
   "source": [
    "from scipy.io import loadmat\n",
    "from scipy.io import savemat\n",
    "import pandas as pd\n",
    "\n",
    "#Directory containing the RF scan data\n",
    "dataFolder = 'C:/Users/Lucas/OneDrive - The University of Western Ontario/Documents/GitHub/SE4450-project-code/Preprocessing/P82-W0-S2.mat'\n",
    "\n",
    "#Loading in the matlab file information\n",
    "rawMatFile = loadmat(dataFolder)\n",
    "\n",
    "#Contains just the RF data pulled from the .mat file\n",
    "#RFData = [[element for element in upperElement] for upperElement in rawMatFile['rf1']]\n",
    "RFData = rawMatFile['rf1']\n",
    "print(type(RFData))\n",
    "print(type(rawMatFile['rf1']))\n",
    "#Kinda works to leave a slice of each edge of the scan from being black\n",
    "cutTop = 0.1\n",
    "cutLeft = 0.1\n",
    "cutBottom = 0.1\n",
    "cutRight = 0.1\n",
    "\n",
    "lowerI = int(cutLeft*256)\n",
    "upperI = int((1-cutRight)*256)\n",
    "lowerJ = int(cutTop*2592)\n",
    "upperJ = int((1-cutBottom)*2592)\n",
    "\n",
    "frames = [] #vector to hold individual cropped frames\n",
    "\n",
    "for x in range(RFData.shape[2]):\n",
    "    frames.append(RFData[lowerJ:upperJ,lowerI:upperI,x]) #Take inner subset of frame to allow for translation\n",
    "\n",
    "pairs = generatePairs(frames)\n",
    "extra = translatePair(pairs[2],1)\n",
    "print(len(extra))\n",
    "print(frames[0].shape)"
   ]
  },
  {
   "cell_type": "code",
   "execution_count": null,
   "metadata": {},
   "outputs": [],
   "source": [
    "def generatePairs(frames):\n",
    "    framePairs = [] #vector to hold image pairs\n",
    "\n",
    "    for x in range(len(frames)): #generate image pairs\n",
    "        for y in range(len(frames)-5-x):\n",
    "            pair = [(x+1),(x+y+6),frames[x],frames[x+y+5]]\n",
    "            framePairs.append(pair)\n",
    "    return framePairs"
   ]
  },
  {
   "cell_type": "code",
   "execution_count": 42,
   "metadata": {},
   "outputs": [],
   "source": [
    "def translatePair(pair,steps):\n",
    "    frame1 = pair[0]-1\n",
    "    frame2 = pair[1]-1\n",
    "\n",
    "    baseCut = 0.1\n",
    "    step = baseCut/steps\n",
    "    pairs = []\n",
    "\n",
    "    for x in range(-steps,steps+1):\n",
    "        for y in range(-steps,steps+1):\n",
    "            lowerI = int((cutLeft+x*step)*256)\n",
    "            upperI = int((1-(cutRight-x*step))*256)\n",
    "            lowerJ = int((cutTop+y*step)*2592)\n",
    "            upperJ = int((1-(cutBottom-y*step))*2592)\n",
    "\n",
    "            pairs.append([RFData[lowerJ:upperJ,lowerI:upperI,frame1],RFData[lowerJ:upperJ,lowerI:upperI,frame2]]) #Take inner subset of frame to allow for translation\n",
    "    return pairs"
   ]
  },
  {
   "cell_type": "code",
   "execution_count": null,
   "metadata": {},
   "outputs": [],
   "source": [
    "import re #for regular expressions to allow sorting the frames\n",
    "\n",
    "def numberRegex(e):\n",
    "  #Finding all digits in the filename\n",
    "  x = re.findall(\"(\\d)\", e)\n",
    "\n",
    "  #if there are two digits in filename\n",
    "  if(len(x)==2):\n",
    "      return int(x[0]+\"\"+x[1])\n",
    "  #if there is one digit in the filename\n",
    "  else:\n",
    "      return int(x[0])\n"
   ]
  },
  {
   "cell_type": "code",
   "execution_count": 11,
   "metadata": {},
   "outputs": [
    {
     "output_type": "stream",
     "name": "stdout",
     "text": [
      "19\n"
     ]
    }
   ],
   "source": [
    "from scipy.io import loadmat\n",
    "from scipy.io import savemat\n",
    "import pandas as pd\n",
    "\n",
    "#Testing to see if we can make dataframe straight from the raw mat file dictionary\n",
    "dataFolder = 'H:/Documents/Github repositories/SE4450-project-code/Preprocessing/P82-W0-S2.mat'\n",
    "rawMatFile = loadmat(dataFolder)\n",
    "print(rawMatFile['rf1'].shape[2])\n"
   ]
  },
  {
   "cell_type": "code",
   "execution_count": 32,
   "metadata": {
    "tags": []
   },
   "outputs": [
    {
     "output_type": "stream",
     "name": "stdout",
     "text": [
      "<class 'numpy.ndarray'>\n<class 'numpy.ndarray'>\n105\n"
     ]
    }
   ],
   "source": [
    "from scipy.io import loadmat\n",
    "from scipy.io import savemat\n",
    "import pandas as pd\n",
    "\n",
    "#Lucas directory\n",
    "#C:/Users/Lucas/OneDrive - The University of Western Ontario/Documents/GitHub/SE4450-project-code/Preprocessing/Pxx-Wx-Sx_RF\n",
    "\n",
    "#Ian directory\n",
    "#H:/Documents/Github repositories/SE4450-project-code/Preprocessing/Pxx-Wx-Sx_RF\n",
    "\n",
    "#Directory containing the RF scan data\n",
    "dataFolder = 'H:/Documents/Github repositories/SE4450-project-code/Preprocessing/P82-W0-S2.mat'\n",
    "#vecRFDataNames = os.listdir(os.path.join(dataFolder)) #vector with the names of the images in the above folder\n",
    "#vecRFDataNames.sort(key=numberRegex) #Sorts the images by frame number\n",
    "\n",
    "#Loading in the matlab file information\n",
    "rawMatFile = loadmat(dataFolder)\n",
    "\n",
    "#Contains just the RF data pulled from the .mat file\n",
    "#RFData = [[element for element in upperElement] for upperElement in rawMatFile['rf1']]\n",
    "RFData = rawMatFile['rf1']\n",
    "print(type(RFData))\n",
    "print(type(rawMatFile['rf1']))\n",
    "#Kinda works to leave a slice of each edge of the scan from being black\n",
    "cutTop = 0.1\n",
    "cutLeft = 0.1\n",
    "cutBottom = 0.1\n",
    "cutRight = 0.1\n",
    "\n",
    "lowerI = int(cutLeft*256)\n",
    "upperI = int((1-cutRight)*256)\n",
    "lowerJ = int(cutTop*2592)\n",
    "upperJ = int((1-cutBottom)*2592)\n",
    "\n",
    "#zeroArray = [0,0,0,0,0,0,0,0,0,0,0,0,0,0,0,0,0,0,0]\n",
    "for i in range(256):\n",
    "    for j in range(2592):\n",
    "        if j>lowerJ and j<upperJ: #rows to zero out\n",
    "            if i>lowerI and i<upperI: #cols to zero out\n",
    "                RFData[j][i][0] = 0 #the 0 in the third [] pertains to the frame to edit (0 being frame 1)\n",
    " \n",
    "# Updates inputted matlab file to contain changes from the for loop above\n",
    "rawMatFile['rf1'] = RFData\n",
    "\n",
    "# Saves file while applying changes from the for loop above\n",
    "# matDic = {'__header__': b'MATLAB 5.0 MAT-file, Platform: PCWIN64, Created on: Wed Oct 21 17:26:33 2020','__version__':'1.0', '__globals__':'','rf1':RFData}\n",
    "# savemat(\"transformTest.mat\", matDic, long_field_names=True)\n",
    "\n",
    "# Saves the mat file without any changes\n",
    "savemat(\"transformTestUnchanged.mat\", rawMatFile)\n",
    "\n",
    "#Converting python dictionary into pandas dataframe for easy manipulation (unsure if needed)\n",
    "#RFDataframe = pd.DataFrame(rawMatFile['rf1'])\n",
    "\n",
    "#print(RFDataframe.head(5))"
   ]
  },
  {
   "cell_type": "code",
   "execution_count": null,
   "metadata": {},
   "outputs": [],
   "source": [
    "#This was a long shot to visualize the RF dataframe\n",
    "import matplotlib.pyplot as plt\n",
    "import numpy as np\n",
    "\n",
    "[m,n] = np.shape(RFData[0:10][0:10])\n",
    "\n",
    "#Colour Map using Matrix\n",
    "plt.figure()\n",
    "plt.imshow(RFData, alpha=0.8)\n",
    "plt.xticks(np.arange(n))\n",
    "plt.yticks(np.arange(m))\n",
    "plt.xlabel('Numbers')\n",
    "plt.ylabel('Value')\n",
    "plt.title('Color Maps')"
   ]
  }
 ]
}