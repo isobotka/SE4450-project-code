{
 "metadata": {
  "language_info": {
   "codemirror_mode": {
    "name": "ipython",
    "version": 3
   },
   "file_extension": ".py",
   "mimetype": "text/x-python",
   "name": "python",
   "nbconvert_exporter": "python",
   "pygments_lexer": "ipython3",
   "version": "3.7.4-final"
  },
  "orig_nbformat": 2,
  "kernelspec": {
   "name": "python3",
   "display_name": "Python 3",
   "language": "python"
  }
 },
 "nbformat": 4,
 "nbformat_minor": 2,
 "cells": [
  {
   "cell_type": "code",
   "execution_count": 46,
   "metadata": {},
   "outputs": [
    {
     "output_type": "stream",
     "name": "stdout",
     "text": [
      "Requirement already up-to-date: opencv-contrib-python in h:\\users\\ian\\anaconda3\\lib\\site-packages (4.5.1.48)\nRequirement already satisfied, skipping upgrade: numpy>=1.14.5 in h:\\users\\ian\\anaconda3\\lib\\site-packages (from opencv-contrib-python) (1.16.5)\nNote: you may need to restart the kernel to use updated packages.\n"
     ]
    }
   ],
   "source": [
    "pip install opencv-contrib-python --upgrade  "
   ]
  },
  {
   "cell_type": "code",
   "execution_count": 47,
   "metadata": {},
   "outputs": [],
   "source": [
    "import re #for regular expressions to allow sorting the frames\n",
    "\n",
    "def numberRegex(e):\n",
    "  #Finding all digits in the filename\n",
    "  x = re.findall(\"(\\d)\", e)\n",
    "\n",
    "  #if there are two digits in filename\n",
    "  if(len(x)==2):\n",
    "      return int(x[0]+\"\"+x[1])\n",
    "  #if there is one digit in the filename\n",
    "  else:\n",
    "      return int(x[0])\n"
   ]
  },
  {
   "cell_type": "code",
   "execution_count": 50,
   "metadata": {},
   "outputs": [
    {
     "output_type": "stream",
     "name": "stdout",
     "text": [
      "[[0, 0, 0, 0, 0, 0, 0, 0], [0, 0, 0, 0, 0, 0, 0, 0], [0, 0, 0, 0, 0, 0, 0, 0], [0, 0, 0, 0, 0, 0, 0, 0], [0, 0, 0, 0, 0, 0, 0, 0], [0, 0, 0, 0, 0, 0, 0, 0], [0, 0, 0, 0, 0, 0, 0, 0], [0, 0, 0, 0, 0, 0, 0, 0], [0, 0, 0, 0, 0, 0, 0, 0], [0, 0, 0, 0, 0, 0, 0, 0], [0, 0, 0, 0, 0, 0, 0, 0], [0, 0, 0, 0, 0, 0, 0, 0], [0, 0, 0, 0, 0, 0, 0, 0], [0, 0, 0, 0, 0, 0, 0, 0], [0, 0, 0, 0, 0, 0, 0, 0], [0, 0, 0, 0, 0, 0, 0, 0], [0, 0, 0, 0, 0, 0, 0, 0], [0, 0, 0, 0, 0, 0, 0, 0], [0, 0, 0, 0, 0, 0, 0, 0], [0, 0, 0, 0, 0, 0, 0, 0], [0, 0, 0, 0, 0, 0, 0, 0], [0, 0, 0, 0, 0, 0, 0, 0], [0, 0, 0, 0, 0, 0, 0, 0]]\n[[array([[ 76, 118, 122, ..., 119, 102,  84],\n       [ 92, 122, 117, ...,  56,  62,  66],\n       [ 79, 108, 104, ...,  80,  77,  66],\n       ...,\n       [ 34,  39,  44, ...,  42,  41,  50],\n       [ 36,  35,  33, ...,  25,  30,  38],\n       [ 45,  34,  23, ...,  11,  21,  25]], dtype=uint8), 0, 0, 0, 0, 0, 0, 0], [array([[ 76, 118, 122, ..., 119, 102,  84],\n       [ 92, 122, 117, ...,  56,  62,  66],\n       [ 79, 108, 104, ...,  80,  77,  66],\n       ...,\n       [ 34,  39,  44, ...,  42,  41,  50],\n       [ 36,  35,  33, ...,  25,  30,  38],\n       [ 45,  34,  23, ...,  11,  21,  25]], dtype=uint8), 0, 0, 0, 0, 0, 0, 0], [array([[ 76, 118, 122, ..., 119, 102,  84],\n       [ 92, 122, 117, ...,  56,  62,  66],\n       [ 79, 108, 104, ...,  80,  77,  66],\n       ...,\n       [ 34,  39,  44, ...,  42,  41,  50],\n       [ 36,  35,  33, ...,  25,  30,  38],\n       [ 45,  34,  23, ...,  11,  21,  25]], dtype=uint8), 0, 0, 0, 0, 0, 0, 0], [array([[ 76, 118, 122, ..., 119, 102,  84],\n       [ 92, 122, 117, ...,  56,  62,  66],\n       [ 79, 108, 104, ...,  80,  77,  66],\n       ...,\n       [ 34,  39,  44, ...,  42,  41,  50],\n       [ 36,  35,  33, ...,  25,  30,  38],\n       [ 45,  34,  23, ...,  11,  21,  25]], dtype=uint8), 0, 0, 0, 0, 0, 0, 0], [array([[ 76, 118, 122, ..., 119, 102,  84],\n       [ 92, 122, 117, ...,  56,  62,  66],\n       [ 79, 108, 104, ...,  80,  77,  66],\n       ...,\n       [ 34,  39,  44, ...,  42,  41,  50],\n       [ 36,  35,  33, ...,  25,  30,  38],\n       [ 45,  34,  23, ...,  11,  21,  25]], dtype=uint8), 0, 0, 0, 0, 0, 0, 0], [array([[ 76, 118, 122, ..., 119, 102,  84],\n       [ 92, 122, 117, ...,  56,  62,  66],\n       [ 79, 108, 104, ...,  80,  77,  66],\n       ...,\n       [ 34,  39,  44, ...,  42,  41,  50],\n       [ 36,  35,  33, ...,  25,  30,  38],\n       [ 45,  34,  23, ...,  11,  21,  25]], dtype=uint8), 0, 0, 0, 0, 0, 0, 0], [array([[ 76, 118, 122, ..., 119, 102,  84],\n       [ 92, 122, 117, ...,  56,  62,  66],\n       [ 79, 108, 104, ...,  80,  77,  66],\n       ...,\n       [ 34,  39,  44, ...,  42,  41,  50],\n       [ 36,  35,  33, ...,  25,  30,  38],\n       [ 45,  34,  23, ...,  11,  21,  25]], dtype=uint8), 0, 0, 0, 0, 0, 0, 0], [array([[ 76, 118, 122, ..., 119, 102,  84],\n       [ 92, 122, 117, ...,  56,  62,  66],\n       [ 79, 108, 104, ...,  80,  77,  66],\n       ...,\n       [ 34,  39,  44, ...,  42,  41,  50],\n       [ 36,  35,  33, ...,  25,  30,  38],\n       [ 45,  34,  23, ...,  11,  21,  25]], dtype=uint8), 0, 0, 0, 0, 0, 0, 0], [array([[ 76, 118, 122, ..., 119, 102,  84],\n       [ 92, 122, 117, ...,  56,  62,  66],\n       [ 79, 108, 104, ...,  80,  77,  66],\n       ...,\n       [ 34,  39,  44, ...,  42,  41,  50],\n       [ 36,  35,  33, ...,  25,  30,  38],\n       [ 45,  34,  23, ...,  11,  21,  25]], dtype=uint8), 0, 0, 0, 0, 0, 0, 0], [array([[ 76, 118, 122, ..., 119, 102,  84],\n       [ 92, 122, 117, ...,  56,  62,  66],\n       [ 79, 108, 104, ...,  80,  77,  66],\n       ...,\n       [ 34,  39,  44, ...,  42,  41,  50],\n       [ 36,  35,  33, ...,  25,  30,  38],\n       [ 45,  34,  23, ...,  11,  21,  25]], dtype=uint8), 0, 0, 0, 0, 0, 0, 0], [array([[ 76, 118, 122, ..., 119, 102,  84],\n       [ 92, 122, 117, ...,  56,  62,  66],\n       [ 79, 108, 104, ...,  80,  77,  66],\n       ...,\n       [ 34,  39,  44, ...,  42,  41,  50],\n       [ 36,  35,  33, ...,  25,  30,  38],\n       [ 45,  34,  23, ...,  11,  21,  25]], dtype=uint8), 0, 0, 0, 0, 0, 0, 0], [array([[ 76, 118, 122, ..., 119, 102,  84],\n       [ 92, 122, 117, ...,  56,  62,  66],\n       [ 79, 108, 104, ...,  80,  77,  66],\n       ...,\n       [ 34,  39,  44, ...,  42,  41,  50],\n       [ 36,  35,  33, ...,  25,  30,  38],\n       [ 45,  34,  23, ...,  11,  21,  25]], dtype=uint8), 0, 0, 0, 0, 0, 0, 0], [array([[ 76, 118, 122, ..., 119, 102,  84],\n       [ 92, 122, 117, ...,  56,  62,  66],\n       [ 79, 108, 104, ...,  80,  77,  66],\n       ...,\n       [ 34,  39,  44, ...,  42,  41,  50],\n       [ 36,  35,  33, ...,  25,  30,  38],\n       [ 45,  34,  23, ...,  11,  21,  25]], dtype=uint8), 0, 0, 0, 0, 0, 0, 0], [array([[ 76, 118, 122, ..., 119, 102,  84],\n       [ 92, 122, 117, ...,  56,  62,  66],\n       [ 79, 108, 104, ...,  80,  77,  66],\n       ...,\n       [ 34,  39,  44, ...,  42,  41,  50],\n       [ 36,  35,  33, ...,  25,  30,  38],\n       [ 45,  34,  23, ...,  11,  21,  25]], dtype=uint8), 0, 0, 0, 0, 0, 0, 0], [array([[ 76, 118, 122, ..., 119, 102,  84],\n       [ 92, 122, 117, ...,  56,  62,  66],\n       [ 79, 108, 104, ...,  80,  77,  66],\n       ...,\n       [ 34,  39,  44, ...,  42,  41,  50],\n       [ 36,  35,  33, ...,  25,  30,  38],\n       [ 45,  34,  23, ...,  11,  21,  25]], dtype=uint8), 0, 0, 0, 0, 0, 0, 0], [array([[ 76, 118, 122, ..., 119, 102,  84],\n       [ 92, 122, 117, ...,  56,  62,  66],\n       [ 79, 108, 104, ...,  80,  77,  66],\n       ...,\n       [ 34,  39,  44, ...,  42,  41,  50],\n       [ 36,  35,  33, ...,  25,  30,  38],\n       [ 45,  34,  23, ...,  11,  21,  25]], dtype=uint8), 0, 0, 0, 0, 0, 0, 0], [array([[ 76, 118, 122, ..., 119, 102,  84],\n       [ 92, 122, 117, ...,  56,  62,  66],\n       [ 79, 108, 104, ...,  80,  77,  66],\n       ...,\n       [ 34,  39,  44, ...,  42,  41,  50],\n       [ 36,  35,  33, ...,  25,  30,  38],\n       [ 45,  34,  23, ...,  11,  21,  25]], dtype=uint8), 0, 0, 0, 0, 0, 0, 0], [array([[ 76, 118, 122, ..., 119, 102,  84],\n       [ 92, 122, 117, ...,  56,  62,  66],\n       [ 79, 108, 104, ...,  80,  77,  66],\n       ...,\n       [ 34,  39,  44, ...,  42,  41,  50],\n       [ 36,  35,  33, ...,  25,  30,  38],\n       [ 45,  34,  23, ...,  11,  21,  25]], dtype=uint8), 0, 0, 0, 0, 0, 0, 0], [array([[ 76, 118, 122, ..., 119, 102,  84],\n       [ 92, 122, 117, ...,  56,  62,  66],\n       [ 79, 108, 104, ...,  80,  77,  66],\n       ...,\n       [ 34,  39,  44, ...,  42,  41,  50],\n       [ 36,  35,  33, ...,  25,  30,  38],\n       [ 45,  34,  23, ...,  11,  21,  25]], dtype=uint8), 0, 0, 0, 0, 0, 0, 0], [array([[ 76, 118, 122, ..., 119, 102,  84],\n       [ 92, 122, 117, ...,  56,  62,  66],\n       [ 79, 108, 104, ...,  80,  77,  66],\n       ...,\n       [ 34,  39,  44, ...,  42,  41,  50],\n       [ 36,  35,  33, ...,  25,  30,  38],\n       [ 45,  34,  23, ...,  11,  21,  25]], dtype=uint8), 0, 0, 0, 0, 0, 0, 0], [array([[ 76, 118, 122, ..., 119, 102,  84],\n       [ 92, 122, 117, ...,  56,  62,  66],\n       [ 79, 108, 104, ...,  80,  77,  66],\n       ...,\n       [ 34,  39,  44, ...,  42,  41,  50],\n       [ 36,  35,  33, ...,  25,  30,  38],\n       [ 45,  34,  23, ...,  11,  21,  25]], dtype=uint8), 0, 0, 0, 0, 0, 0, 0], [array([[ 76, 118, 122, ..., 119, 102,  84],\n       [ 92, 122, 117, ...,  56,  62,  66],\n       [ 79, 108, 104, ...,  80,  77,  66],\n       ...,\n       [ 34,  39,  44, ...,  42,  41,  50],\n       [ 36,  35,  33, ...,  25,  30,  38],\n       [ 45,  34,  23, ...,  11,  21,  25]], dtype=uint8), 0, 0, 0, 0, 0, 0, 0], [array([[ 76, 118, 122, ..., 119, 102,  84],\n       [ 92, 122, 117, ...,  56,  62,  66],\n       [ 79, 108, 104, ...,  80,  77,  66],\n       ...,\n       [ 34,  39,  44, ...,  42,  41,  50],\n       [ 36,  35,  33, ...,  25,  30,  38],\n       [ 45,  34,  23, ...,  11,  21,  25]], dtype=uint8), 0, 0, 0, 0, 0, 0, 0]]\n"
     ]
    }
   ],
   "source": [
    "import os #Allows reading in file names from local machine\n",
    "import cv2 as cv #image processing package\n",
    "import numpy as np\n",
    "\n",
    "#Directory containing the bmode scans\n",
    "imageFolder = 'H:/Documents/Github repositories/SE4450-project-code/Preprocessing/P39-W2-S4_Bmode'\n",
    "vecImageNames = os.listdir(os.path.join(imageFolder)) #vector with the names of the images in the above folder\n",
    "vecImageNames.sort(key=numberRegex) #Sorts the images by frame number\n",
    "\n",
    "#Vector containing the path to each image to be processed\n",
    "vecImagePaths = []\n",
    "for filename in vecImageNames:\n",
    "    vecImagePaths.append(imageFolder+\"/\"+filename)\n",
    "\n",
    "vecRawImageData = [] #Vector containing the raw data for each image (including scales and title)\n",
    "\n",
    "for filepath in vecImagePaths: #Reading image data into vector\n",
    "    vecRawImageData.append(cv.imread(filepath,0))\n",
    "\n",
    "vecCroppedImageData = [] #Vector containing the images cropped without scales and title\n",
    "start_row,start_col=int(54),int(95) #Coords for cropping\n",
    "end_row,end_col=int(670),int(670)\n",
    "\n",
    "for image in vecRawImageData: #cropping images\n",
    "    cropped=image[start_row:end_row,start_col:end_col]\n",
    "    vecCroppedImageData.append(cropped)\n",
    "\n",
    "M = 8 #number of translations <- LUCAS INPUT HERE\n",
    "N = len(vecCroppedImageData) #Number of images to translate\n",
    "\n",
    "#Matrix containing the base center cropped image and each desired translation\n",
    "matrixTranslatedImages = [ [0 for i in range(M)]] * N \n",
    "print(matrixTranslatedImages)\n",
    "start_row,start_col=int(10),int(10) #Coordinates for the center crop\n",
    "end_row,end_col=int(606),int(565)\n",
    "\n",
    "for i in range(len(vecCroppedImageData)): #'translating' images\n",
    "    matrixTranslatedImages[i][0] = cropped[start_row:end_row,start_col:end_col] #taking center of image\n",
    "\n",
    "# cv.imshow('image',matrixTranslatedImages[i][0])  \n",
    "# cv.waitKey(0) # Waits till keypress  \n",
    "# cv.destroyAllWindows()\n"
   ]
  },
  {
   "cell_type": "code",
   "execution_count": 49,
   "metadata": {},
   "outputs": [],
   "source": [
    "#Choose number of steps to move to generate more data\n",
    "images = []\n",
    "steps = 1\n",
    "#set steps to be maximize size given number of steps\n",
    "step_size = 10/steps\n",
    "#move crop around base image to generate more possible correct pairs\n",
    "for x in range(-steps,steps+1):\n",
    "    for y in range(-steps,steps+1):\n",
    "        images.append(cropped[(start_row+y):(end_row+x),(start_col+y):(end_col+x)])"
   ]
  },
  {
   "cell_type": "code",
   "execution_count": null,
   "metadata": {},
   "outputs": [],
   "source": []
  }
 ]
}