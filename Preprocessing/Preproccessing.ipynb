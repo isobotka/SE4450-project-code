{
 "metadata": {
  "language_info": {
   "codemirror_mode": {
    "name": "ipython",
    "version": 3
   },
   "file_extension": ".py",
   "mimetype": "text/x-python",
   "name": "python",
   "nbconvert_exporter": "python",
   "pygments_lexer": "ipython3",
   "version": "3.9.1-final"
  },
  "orig_nbformat": 2,
  "kernelspec": {
   "name": "python3",
   "display_name": "Python 3.9.1 64-bit",
   "metadata": {
    "interpreter": {
     "hash": "f47a5ab19bc45083382657f6f2388be666e731531973f00c5e26ff8c66213130"
    }
   }
  }
 },
 "nbformat": 4,
 "nbformat_minor": 2,
 "cells": [
  {
   "cell_type": "code",
   "execution_count": 4,
   "metadata": {},
   "outputs": [
    {
     "output_type": "stream",
     "name": "stdout",
     "text": [
      "Collecting opencv-contrib-python\n  Downloading opencv_contrib_python-4.5.1.48-cp39-cp39-win_amd64.whl (41.2 MB)\nRequirement already satisfied: numpy>=1.19.3 in c:\\users\\lucas\\appdata\\local\\programs\\python\\python39\\lib\\site-packages (from opencv-contrib-python) (1.19.5)\nInstalling collected packages: opencv-contrib-python\nSuccessfully installed opencv-contrib-python-4.5.1.48\nNote: you may need to restart the kernel to use updated packages.\n"
     ]
    }
   ],
   "source": [
    "pip install opencv-contrib-python --upgrade  "
   ]
  },
  {
   "cell_type": "code",
   "execution_count": 1,
   "metadata": {},
   "outputs": [],
   "source": [
    "import cv2 as cv\n",
    "import numpy as np"
   ]
  },
  {
   "cell_type": "code",
   "execution_count": 39,
   "metadata": {},
   "outputs": [
    {
     "output_type": "stream",
     "name": "stdout",
     "text": [
      "751\n831\n"
     ]
    }
   ],
   "source": [
    "path = r'C:/Users/Lucas/OneDrive - The University of Western Ontario/Documents/GitHub/SE4450-project-code/Preprocessing/P39-W2-S4_Bmode/I1.jpg'\n",
    "\n",
    "img = cv.imread(path,0) \n",
    "\n",
    "#Image top left = 54,95\n",
    "#image bottom right = 670,670\n",
    "start_row,start_col=int(54),int(95)\n",
    "end_row,end_col=int(670),int(670)\n",
    "\n",
    "#crop out image data from border\n",
    "cropped=img[start_row:end_row,start_col:end_col]\n",
    "\n",
    "#take center crop to be processed by model\n",
    "start_row,start_col=int(10),int(10)\n",
    "end_row,end_col=int(606),int(565)\n",
    "\n",
    "#take center of image\n",
    "proccessed=cropped[start_row:end_row,start_col:end_col]\n",
    "  \n",
    "#This is using for display the image  \n",
    "cv.imshow('image',proccessed)  \n",
    "  \n",
    "cv.waitKey(0) # This is necessary to be required so that the image doesn't close immediately.  \n",
    "#It will run continuously until the key press.  \n",
    "cv.destroyAllWindows()  "
   ]
  },
  {
   "cell_type": "code",
   "execution_count": 61,
   "metadata": {},
   "outputs": [],
   "source": [
    "#Choose number of steps to move to generate more data\n",
    "images = []\n",
    "steps = 1\n",
    "#set steps to be maximize size given number of steps\n",
    "step_size = 10/steps\n",
    "#move crop around base image to generate more possible correct pairs\n",
    "for x in range(-steps,steps+1):\n",
    "    for y in range(-steps,steps+1):\n",
    "        images.append(cropped[(start_row+y):(end_row+x),(start_col+y):(end_col+x)])"
   ]
  },
  {
   "cell_type": "code",
   "execution_count": null,
   "metadata": {},
   "outputs": [],
   "source": []
  }
 ]
}